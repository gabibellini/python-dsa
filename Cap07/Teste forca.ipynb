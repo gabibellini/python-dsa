{
 "cells": [
  {
   "cell_type": "code",
   "execution_count": 7,
   "id": "0e7be210",
   "metadata": {},
   "outputs": [],
   "source": [
    "import random\n",
    "import os\n",
    "arquivo=open(\"frutas.txt\", \"r\") \n",
    "palavras=arquivo.read().lower()\n",
    "arquivo.close()"
   ]
  },
  {
   "cell_type": "code",
   "execution_count": 8,
   "id": "03735021",
   "metadata": {},
   "outputs": [],
   "source": [
    "arquivo = open('frutas.txt', 'w')\n",
    "arquivo.write(palavras)\n",
    "arquivo.close()"
   ]
  },
  {
   "cell_type": "code",
   "execution_count": null,
   "id": "b1780b23",
   "metadata": {},
   "outputs": [],
   "source": []
  }
 ],
 "metadata": {
  "kernelspec": {
   "display_name": "Python 3 (ipykernel)",
   "language": "python",
   "name": "python3"
  },
  "language_info": {
   "codemirror_mode": {
    "name": "ipython",
    "version": 3
   },
   "file_extension": ".py",
   "mimetype": "text/x-python",
   "name": "python",
   "nbconvert_exporter": "python",
   "pygments_lexer": "ipython3",
   "version": "3.9.13"
  }
 },
 "nbformat": 4,
 "nbformat_minor": 5
}
